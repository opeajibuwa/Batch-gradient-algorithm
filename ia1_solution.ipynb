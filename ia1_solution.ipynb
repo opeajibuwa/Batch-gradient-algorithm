{
 "cells": [
  {
   "cell_type": "markdown",
   "id": "5cdb1172",
   "metadata": {},
   "source": [
    "#### Import libraries"
   ]
  },
  {
   "cell_type": "code",
   "execution_count": 1,
   "id": "4bd67a85",
   "metadata": {},
   "outputs": [],
   "source": [
    "import matplotlib.pyplot as plt\n",
    "import numpy as np\n",
    "import pandas as pd\n",
    "from datetime import datetime\n",
    "import seaborn as sns\n",
    "import math"
   ]
  },
  {
   "cell_type": "markdown",
   "id": "53b92b83",
   "metadata": {},
   "source": [
    "#### Func to load data in"
   ]
  },
  {
   "cell_type": "code",
   "execution_count": 2,
   "id": "df9b08f3",
   "metadata": {},
   "outputs": [],
   "source": [
    "def load_data(path):\n",
    "    data = pd.read_csv(path)\n",
    "    return data"
   ]
  },
  {
   "cell_type": "markdown",
   "id": "a93f95ed",
   "metadata": {},
   "source": [
    "###### Call load_data func"
   ]
  },
  {
   "cell_type": "code",
   "execution_count": 3,
   "id": "624e454e",
   "metadata": {},
   "outputs": [],
   "source": [
    "path = \"/Users/Opeyemi/Desktop/Machine Learning/homeworks/ia1/IA1_train.csv\"\n",
    "data = load_data(path)"
   ]
  },
  {
   "cell_type": "markdown",
   "id": "de910f58",
   "metadata": {},
   "source": [
    "#### Data preprocessing function"
   ]
  },
  {
   "cell_type": "code",
   "execution_count": 24,
   "id": "83094f31",
   "metadata": {},
   "outputs": [],
   "source": [
    "def preprocess_data(data, normalize, drop_sqrt_living15):\n",
    "    \n",
    "    # (a) remove the id column\n",
    "    data = data.iloc[:, 1:]\n",
    "    #print(\"data after id column removal:\", data.head(3), \"\\n\")\n",
    "    \n",
    "    # (b) split the date feature into seperate columns\n",
    "    data.date = pd.to_datetime(data.date)\n",
    "    data['month'] = data['date'].dt.month\n",
    "    data['year'] = data['date'].dt.year\n",
    "    data['day'] = data['date'].dt.day\n",
    "    data = data.iloc[:, 1:]\n",
    "    #print(\"data after date column splitting:\", data.head(3), \"\\n\")\n",
    "    \n",
    "    # (c) create a dummy column of all ones as the bias/intercept term\n",
    "    data['dummy'] = np.ones((data.shape[0], 1), dtype=\"int32\")\n",
    "    #print(\"data with dummy column inserted:\", data.head(3))\n",
    "    \n",
    "    # (d) replace yr_renovated column with age_since_renovated column\n",
    "    data.loc[data['yr_renovated'] == 0, 'age_since_renovated'] = data['year'] - data['yr_built']\n",
    "    data.loc[data['yr_renovated'] != 0, 'age_since_renovated'] = data['year'] - data['yr_renovated']\n",
    "    data = data.drop('yr_renovated', axis=1)\n",
    "    all_columns = ['dummy', 'month', 'day', 'year', 'bedrooms', 'bathrooms', 'sqft_living', 'sqft_lot', 'floors', \n",
    "                       'waterfront', 'view', 'condition', 'grade', 'sqft_above', 'sqft_basement', 'yr_built', \n",
    "                       'age_since_renovated', 'zipcode', 'lat', 'long', 'sqft_living15', 'sqft_lot15', 'price']\n",
    "    data = data[all_columns]\n",
    "    #print(\"data after modifying yr-renovated column:\", data.head(3), \"\\n\")\n",
    "    \n",
    "    # split the data into X and y_labels\n",
    "    X = data.drop(\"price\", axis=1)\n",
    "    y = data.price\n",
    "    \n",
    "    # (e) normalize dataset if normalize argument is set to true\n",
    "    if normalize is True:\n",
    "        column_mean = [0] * data.shape[1]\n",
    "        column_std = [0] * data.shape[1]\n",
    "        \n",
    "        for index, column in enumerate(data.columns):\n",
    "            if column == 'waterfront' or column == 'price' or column == 'dummy':\n",
    "                continue\n",
    "            column_mean[index] = data[column].mean()\n",
    "            column_std[index] = data[column].std()\n",
    "            data[column] = (data[column] - column_mean[index]) / column_std[index]\n",
    "        \n",
    "        if drop_sqrt_living15 is True:\n",
    "            return data.drop(\"sqft_living15\", axis=1), column_mean, column_std\n",
    "        \n",
    "        return data, column_mean, column_std      \n",
    "        \n",
    "    return data"
   ]
  },
  {
   "cell_type": "markdown",
   "id": "d5602095",
   "metadata": {},
   "source": [
    "#### Batch gradient descent"
   ]
  },
  {
   "cell_type": "code",
   "execution_count": 5,
   "id": "a3da0a46",
   "metadata": {},
   "outputs": [],
   "source": [
    "def gradient_train(X, y, lr, stopping_threshold, itr=float(\"inf\")):\n",
    "    \n",
    "    counter = 0\n",
    "    weight = np.zeros(X.shape[1])\n",
    "    loss_list = [np.power(X.dot(weight) - y, 2).mean()]\n",
    "    \n",
    "    while counter < itr:\n",
    "        delta_w = X.multiply((X.dot(weight) - y), axis=0).mean() * 2\n",
    "        weight = weight - lr * delta_w\n",
    "        loss = np.power(X.dot(weight) - y, 2).mean()\n",
    "        loss_list.append(loss)\n",
    "        \n",
    "        if np.linalg.norm(delta_w) <= stopping_threshold or loss == np.nan or loss == float(\"inf\"):\n",
    "            break\n",
    "            \n",
    "        counter += 1\n",
    "        \n",
    "    print(\"itr={}, lr={}, loss={}\".format(counter, lr, loss))\n",
    "    return weight, loss_list"
   ]
  },
  {
   "cell_type": "markdown",
   "id": "84c5a324",
   "metadata": {},
   "source": [
    "#### Part 1(a) Train the gradient descent algorithm using different learning rates using the preprocessed and normalized data"
   ]
  },
  {
   "cell_type": "code",
   "execution_count": 6,
   "id": "a91e8eb2",
   "metadata": {},
   "outputs": [],
   "source": [
    "train_data, column_mean, column_std = preprocess_data(data, normalize=True, drop_sqrt_living15=False)"
   ]
  },
  {
   "cell_type": "code",
   "execution_count": 7,
   "id": "90e41e21",
   "metadata": {
    "scrolled": true
   },
   "outputs": [
    {
     "name": "stdout",
     "output_type": "stream",
     "text": [
      "itr=30, lr=10000.0, loss=inf\n",
      "itr=37, lr=1000.0, loss=inf\n",
      "itr=49, lr=100.0, loss=inf\n",
      "itr=74, lr=10.0, loss=inf\n",
      "itr=150, lr=1.0, loss=inf\n",
      "itr=4000, lr=0.1, loss=3.757897232495061\n",
      "itr=4000, lr=0.01, loss=3.7936349279621555\n",
      "itr=4000, lr=0.001, loss=3.8524206023677396\n",
      "itr=4000, lr=0.0001, loss=10.190788126232311\n",
      "itr=4000, lr=1e-05, loss=33.39857210738694\n"
     ]
    },
    {
     "data": {
      "image/png": "[encoded data removed]",
      "text/plain": [
       "<Figure size 432x288 with 1 Axes>"
      ]
     },
     "metadata": {
      "needs_background": "light"
     },
     "output_type": "display_data"
    }
   ],
   "source": [
    "lr_arr = [1e4, 1e3, 1e2, 1e1, 1e0, 1e-1, 1e-2, 1e-3, 1e-4, 1e-5]\n",
    "for lr in lr_arr:\n",
    "    weight, mse = gradient_train(train_data.drop('price', axis=1), train_data['price'], lr, 1e-8, itr=4000)\n",
    "    dict = {'iterations': list(range(len(mse))), 'mse': mse}\n",
    "    df_iter_mse = pd.DataFrame(dict)\n",
    "    \n",
    "    plt.clf()\n",
    "    iter_mse = sns.lineplot(data=df_iter_mse, x=\"iterations\", y=\"mse\").set_title('learning rate: ' + str(lr))\n",
    "    fig_iter_mse = iter_mse.get_figure()\n",
    "    \n",
    "    mse_plot_save_path = '/Users/Opeyemi/Desktop/Machine Learning/homeworks/ia1/figures/' + \"normalized_lr_\" + str(lr) + '.jpg'\n",
    "    \n",
    "    fig_iter_mse.savefig(mse_plot_save_path)"
   ]
  },
  {
   "cell_type": "markdown",
   "id": "71184a54",
   "metadata": {},
   "source": [
    "#### Part 1(b) Compute and report the MSE of final model on the validation data"
   ]
  },
  {
   "cell_type": "code",
   "execution_count": 38,
   "id": "af11fa49",
   "metadata": {},
   "outputs": [
    {
     "name": "stdout",
     "output_type": "stream",
     "text": [
      "itr=4000, lr=0.1, loss=4.356874833670252\n",
      "itr=4000, lr=0.01, loss=4.461375006628152\n",
      "itr=4000, lr=0.001, loss=4.632524467113898\n",
      "itr=4000, lr=0.0001, loss=11.073620887650685\n",
      "learning rate=0.1, MSE=4.356874833670252\n",
      "learning rate=0.01, MSE=4.461375006628152\n",
      "learning rate=0.001, MSE=4.632524467113898\n",
      "learning rate=0.0001, MSE=11.073620887650685\n"
     ]
    }
   ],
   "source": [
    "# load in the validation data\n",
    "path = \"/Users/Opeyemi/Desktop/Machine Learning/homeworks/ia1/IA1_dev.csv\"\n",
    "dev = load_data(path)\n",
    "\n",
    "# pre-process the validation data\n",
    "dev = dev.iloc[:, 1:] #remove the id column\n",
    "\n",
    "# split the date column into three\n",
    "dev.date = pd.to_datetime(dev.date)\n",
    "dev['month'] = dev['date'].dt.month\n",
    "dev['year'] = dev['date'].dt.year\n",
    "dev['day'] = dev['date'].dt.day\n",
    "dev = dev.iloc[:, 1:]\n",
    "\n",
    "# create a dummy column for the bias/intercept\n",
    "dev['dummy'] = np.ones(dev.shape[0])\n",
    "\n",
    "# replace yr_renovated column with age_since_renovated column\n",
    "dev.loc[dev['yr_renovated'] == 0, 'age_since_renovated'] = dev['year'] - dev['yr_built']\n",
    "dev.loc[dev['yr_renovated'] != 0, 'age_since_renovated'] = dev['year'] - dev['yr_renovated']\n",
    "dev = dev.drop('yr_renovated', axis=1)\n",
    "\n",
    "all_columns = ['dummy', 'month', 'day', 'year', 'bedrooms', 'bathrooms', 'sqft_living', 'sqft_lot', 'floors', \n",
    "                   'waterfront', 'view', 'condition', 'grade', 'sqft_above', 'sqft_basement', 'yr_built', \n",
    "                   'age_since_renovated', 'zipcode', 'lat', 'long', 'sqft_living15', 'sqft_lot15', 'price']\n",
    "\n",
    "dev_1 = dev[all_columns]\n",
    "\n",
    "# normalize the dev dataset\n",
    "for index, column in enumerate(dev_1.columns):\n",
    "    if column == 'waterfront' or column == 'price' or column == 'dummy':\n",
    "        continue\n",
    "    dev_1[column] = (dev_1[column] - column_mean[index]) / column_std[index]\n",
    "    \n",
    "# compute the mse func\n",
    "def compute_mse(X, y, weights):\n",
    "    return np.power(X.dot(weights) - y, 2).mean()\n",
    "\n",
    "# report the mse of learned model on the validation data\n",
    "convergent_lrs = [1e-1, 1e-2, 1e-3, 1e-4]\n",
    "weight_list =  []\n",
    "for lr in convergent_lrs:\n",
    "    weight, mse = gradient_train(dev_1.drop('price', axis=1), dev_1['price'], lr, 1e-8, itr=4000)\n",
    "    weight_list.append(weight)\n",
    "\n",
    "for index, weight in enumerate(weight_list):\n",
    "    print(\"learning rate={}, MSE={}\".format(convergent_lrs[index], compute_mse(dev_1.drop(\"price\", axis=1), dev_1['price'], weight)))"
   ]
  },
  {
   "cell_type": "markdown",
   "id": "6990804a",
   "metadata": {},
   "source": [
    "#### Part 1(c) Report the learned weights for each feature of the model that performs best on the validation data"
   ]
  },
  {
   "cell_type": "code",
   "execution_count": 9,
   "id": "f49cc861",
   "metadata": {
    "scrolled": true
   },
   "outputs": [
    {
     "name": "stdout",
     "output_type": "stream",
     "text": [
      "itr=4000, lr=0.1, loss=3.757897232495061\n",
      "learning rate=0.1, MSE=4.5053553515377285 \n",
      "\n",
      "dummy                  5.334911\n",
      "month                  0.054940\n",
      "day                   -0.050598\n",
      "year                   0.173781\n",
      "bedrooms              -0.281475\n",
      "bathrooms              0.339022\n",
      "sqft_living            0.763553\n",
      "sqft_lot               0.058188\n",
      "floors                 0.018143\n",
      "waterfront             3.965003\n",
      "view                   0.448146\n",
      "condition              0.199874\n",
      "grade                  1.115143\n",
      "sqft_above             0.756488\n",
      "sqft_basement          0.155253\n",
      "yr_built              -0.883467\n",
      "age_since_renovated   -0.102649\n",
      "zipcode               -0.263433\n",
      "lat                    0.836586\n",
      "long                  -0.303795\n",
      "sqft_living15          0.143490\n",
      "sqft_lot15            -0.099304\n",
      "dtype: float64 \n",
      "\n",
      "The most positive weight feature is dummy and The most negative weight feature is yr_built\n"
     ]
    }
   ],
   "source": [
    "# the best model has learning rate of 0.1\n",
    "weight, mse = gradient_train(train_data.drop('price', axis=1), train_data['price'], 0.1, 1e-8, itr=4000)\n",
    "print(\"learning rate={}, MSE={}\".format(0.1, compute_mse(dev.drop(\"price\", axis=1), dev['price'], weight)), \"\\n\")\n",
    "\n",
    "print(weight, \"\\n\")\n",
    "print(\"The most positive weight feature is {} and The most negative weight feature is {}\".format(\n",
    "     train_data.drop(\"price\", axis=1).columns[np.argmax(weight)], train_data.drop(\"price\", axis=1).columns[np.argmin(weight)]))"
   ]
  },
  {
   "cell_type": "markdown",
   "id": "dac063de",
   "metadata": {},
   "source": [
    "#### Part 2(a) - Training with non-normalized data"
   ]
  },
  {
   "cell_type": "code",
   "execution_count": 32,
   "id": "39d38701",
   "metadata": {},
   "outputs": [
    {
     "name": "stdout",
     "output_type": "stream",
     "text": [
      "itr=13, lr=10, loss=inf\n",
      "itr=14, lr=1, loss=inf\n",
      "itr=16, lr=0.1, loss=inf\n",
      "itr=18, lr=0.01, loss=inf\n",
      "itr=20, lr=0.001, loss=inf\n",
      "itr=24, lr=0.0001, loss=inf\n",
      "itr=28, lr=1e-05, loss=inf\n",
      "itr=35, lr=1e-06, loss=inf\n",
      "itr=65, lr=1e-08, loss=inf\n",
      "itr=117, lr=1e-09, loss=inf\n",
      "itr=4000, lr=1e-10, loss=5.0421842085316194e+100\n",
      "itr=4000, lr=1e-11, loss=10.85034565905031\n",
      "itr=4000, lr=1e-12, loss=12.071950445691549\n",
      "itr=4000, lr=1e-13, loss=12.214437783245735\n",
      "itr=4000, lr=1e-14, loss=17.975912263640883\n",
      "itr=4000, lr=1e-15, loss=36.770300418781545\n",
      "itr=4000, lr=1e-16, loss=40.616785287271014\n",
      "itr=4000, lr=1e-12, loss=12.071950445691549\n",
      "learning rate=1e-12, MSE=14.178753778371513 \n",
      "\n",
      "dummy                  5.352510e-10\n",
      "month                  3.640779e-09\n",
      "day                    2.363169e-10\n",
      "year                   1.078074e-06\n",
      "bedrooms               9.793863e-09\n",
      "bathrooms              1.206408e-08\n",
      "sqft_living            1.835938e-05\n",
      "sqft_lot               4.504619e-06\n",
      "floors                 4.860859e-09\n",
      "waterfront             4.500020e-10\n",
      "view                   8.150734e-09\n",
      "condition              2.776913e-09\n",
      "grade                  2.556549e-08\n",
      "sqft_above             1.477215e-05\n",
      "sqft_basement          3.587229e-06\n",
      "yr_built               1.087632e-06\n",
      "age_since_renovated   -4.478279e-08\n",
      "zipcode                5.245070e-05\n",
      "lat                    2.669476e-08\n",
      "long                  -6.543665e-08\n",
      "sqft_living15          1.197049e-05\n",
      "sqft_lot15             4.451010e-06\n",
      "dtype: float64 \n",
      "\n",
      "The most positive weight feature is zipcode and The most negative weight feature is long\n"
     ]
    },
    {
     "data": {
      "image/png": "[encoded data removed]",
      "text/plain": [
       "<Figure size 432x288 with 1 Axes>"
      ]
     },
     "metadata": {
      "needs_background": "light"
     },
     "output_type": "display_data"
    }
   ],
   "source": [
    "# fetch the non-normalized data\n",
    "train_data2 = preprocess_data(data, normalize=False, drop_sqrt_living15=False)\n",
    "\n",
    "# train the non-normalized data with different learning rates\n",
    "lr_arr = [10, 1, 1e-1, 1e-2, 1e-3, 1e-4, 1e-5, 1e-6, 1e-8, 1e-9, 1e-10, 1e-11, 1e-12, 1e-13, 1e-14, 1e-15, 1e-16]\n",
    "for lr in lr_arr:\n",
    "    weight, mse = gradient_train(train_data2.drop('price', axis=1), train_data2['price'], lr, 1e-8, itr=4000)\n",
    "    dict = {'iterations': list(range(len(mse))), 'mse': mse}\n",
    "    df_iter_mse = pd.DataFrame(dict)\n",
    "    \n",
    "    plt.clf()\n",
    "    iter_mse = sns.lineplot(data=df_iter_mse, x=\"iterations\", y=\"mse\").set_title('learning rate: ' + str(lr))\n",
    "    fig_iter_mse = iter_mse.get_figure()\n",
    "    \n",
    "    mse_plot_save_path = '/Users/Opeyemi/Desktop/Machine Learning/homeworks/ia1/figures/' + \"non_normalized_lr_\" + str(lr) + '.jpg'\n",
    "    fig_iter_mse.savefig(mse_plot_save_path)\n",
    "    \n",
    "# compute the MSE of the best model on the validation dataset\n",
    "path = \"/Users/Opeyemi/Desktop/Machine Learning/homeworks/ia1/IA1_dev.csv\"\n",
    "dev = load_data(path) # reload the dev dataset\n",
    "\n",
    "# pre-process the validation data\n",
    "dev = dev.iloc[:, 1:] #remove the id column\n",
    "\n",
    "# split the date column of the validation dataset into three\n",
    "dev.date = pd.to_datetime(dev.date)\n",
    "dev['month'] = dev['date'].dt.month\n",
    "dev['year'] = dev['date'].dt.year\n",
    "dev['day'] = dev['date'].dt.day\n",
    "dev = dev.iloc[:, 1:]\n",
    "\n",
    "# create a dummy column for the bias/intercept\n",
    "dev['dummy'] = np.ones(dev.shape[0])\n",
    "\n",
    "# replace yr_renovated column with age_since_renovated column\n",
    "dev.loc[dev['yr_renovated'] == 0, 'age_since_renovated'] = dev['year'] - dev['yr_built']\n",
    "dev.loc[dev['yr_renovated'] != 0, 'age_since_renovated'] = dev['year'] - dev['yr_renovated']\n",
    "dev = dev.drop('yr_renovated', axis=1)\n",
    "\n",
    "all_columns = ['dummy', 'month', 'day', 'year', 'bedrooms', 'bathrooms', 'sqft_living', 'sqft_lot', 'floors', \n",
    "                   'waterfront', 'view', 'condition', 'grade', 'sqft_above', 'sqft_basement', 'yr_built', \n",
    "                   'age_since_renovated', 'zipcode', 'lat', 'long', 'sqft_living15', 'sqft_lot15', 'price']\n",
    "\n",
    "dev = dev[all_columns]\n",
    "\n",
    "# evaluate the best learned model on the validation dataset\n",
    "# the best model has learning rate of 1e-12\n",
    "weight, mse = gradient_train(train_data2.drop('price', axis=1), train_data['price'], 1e-12, 1e-8, itr=4000)\n",
    "print(\"learning rate={}, MSE={}\".format(1e-12, compute_mse(dev.drop(\"price\", axis=1), dev['price'], weight)), \"\\n\")\n",
    "\n",
    "print(weight, \"\\n\")\n",
    "print(\"The most positive weight feature is {} and The most negative weight feature is {}\".format(\n",
    "     train_data2.drop(\"price\", axis=1).columns[np.argmax(weight)], train_data2.drop(\"price\", axis=1).columns[np.argmin(weight)]))\n"
   ]
  },
  {
   "cell_type": "markdown",
   "id": "5c68c8e8",
   "metadata": {},
   "source": [
    "####### Non-normalized data requires the use of smaller learning rates to converge as non-normalized input features has the risk of exploding gradients. As some of the features have much larger values compared to others, the gradients for weights related to feature with large values will be significantly larger than the gradients for the other features during training and this can hinder the gradient descent algorithm from coverging to a minima. This is where the use of small learning rates can help to ensure convergence on the non-normalized features of our dataset. "
   ]
  },
  {
   "cell_type": "markdown",
   "id": "93a8621c",
   "metadata": {},
   "source": [
    "#### Part 2(b) - Redundancy in features"
   ]
  },
  {
   "cell_type": "code",
   "execution_count": 34,
   "id": "3b16b440",
   "metadata": {
    "scrolled": true
   },
   "outputs": [
    {
     "data": {
      "text/html": [
       "<div>\n",
       "<style scoped>\n",
       "    .dataframe tbody tr th:only-of-type {\n",
       "        vertical-align: middle;\n",
       "    }\n",
       "\n",
       "    .dataframe tbody tr th {\n",
       "        vertical-align: top;\n",
       "    }\n",
       "\n",
       "    .dataframe thead th {\n",
       "        text-align: right;\n",
       "    }\n",
       "</style>\n",
       "<table border=\"1\" class=\"dataframe\">\n",
       "  <thead>\n",
       "    <tr style=\"text-align: right;\">\n",
       "      <th></th>\n",
       "      <th>dummy</th>\n",
       "      <th>month</th>\n",
       "      <th>day</th>\n",
       "      <th>year</th>\n",
       "      <th>bedrooms</th>\n",
       "      <th>bathrooms</th>\n",
       "      <th>sqft_living</th>\n",
       "      <th>sqft_lot</th>\n",
       "      <th>floors</th>\n",
       "      <th>waterfront</th>\n",
       "      <th>...</th>\n",
       "      <th>sqft_above</th>\n",
       "      <th>sqft_basement</th>\n",
       "      <th>yr_built</th>\n",
       "      <th>age_since_renovated</th>\n",
       "      <th>zipcode</th>\n",
       "      <th>lat</th>\n",
       "      <th>long</th>\n",
       "      <th>sqft_living15</th>\n",
       "      <th>sqft_lot15</th>\n",
       "      <th>price</th>\n",
       "    </tr>\n",
       "  </thead>\n",
       "  <tbody>\n",
       "    <tr>\n",
       "      <th>0</th>\n",
       "      <td>1.0</td>\n",
       "      <td>8</td>\n",
       "      <td>6</td>\n",
       "      <td>2014</td>\n",
       "      <td>4</td>\n",
       "      <td>1.00</td>\n",
       "      <td>1520</td>\n",
       "      <td>9800</td>\n",
       "      <td>1.5</td>\n",
       "      <td>0</td>\n",
       "      <td>...</td>\n",
       "      <td>1520</td>\n",
       "      <td>0</td>\n",
       "      <td>1971</td>\n",
       "      <td>43.0</td>\n",
       "      <td>98034</td>\n",
       "      <td>47.7303</td>\n",
       "      <td>-122.236</td>\n",
       "      <td>1540</td>\n",
       "      <td>7700</td>\n",
       "      <td>3.8900</td>\n",
       "    </tr>\n",
       "    <tr>\n",
       "      <th>1</th>\n",
       "      <td>1.0</td>\n",
       "      <td>3</td>\n",
       "      <td>16</td>\n",
       "      <td>2015</td>\n",
       "      <td>3</td>\n",
       "      <td>2.25</td>\n",
       "      <td>1800</td>\n",
       "      <td>15903</td>\n",
       "      <td>1.0</td>\n",
       "      <td>0</td>\n",
       "      <td>...</td>\n",
       "      <td>1340</td>\n",
       "      <td>460</td>\n",
       "      <td>1986</td>\n",
       "      <td>29.0</td>\n",
       "      <td>98038</td>\n",
       "      <td>47.3813</td>\n",
       "      <td>-122.043</td>\n",
       "      <td>2000</td>\n",
       "      <td>15233</td>\n",
       "      <td>3.3562</td>\n",
       "    </tr>\n",
       "    <tr>\n",
       "      <th>2</th>\n",
       "      <td>1.0</td>\n",
       "      <td>12</td>\n",
       "      <td>12</td>\n",
       "      <td>2014</td>\n",
       "      <td>3</td>\n",
       "      <td>1.50</td>\n",
       "      <td>1780</td>\n",
       "      <td>5000</td>\n",
       "      <td>1.0</td>\n",
       "      <td>0</td>\n",
       "      <td>...</td>\n",
       "      <td>1030</td>\n",
       "      <td>750</td>\n",
       "      <td>1958</td>\n",
       "      <td>56.0</td>\n",
       "      <td>98118</td>\n",
       "      <td>47.5168</td>\n",
       "      <td>-122.256</td>\n",
       "      <td>1780</td>\n",
       "      <td>7500</td>\n",
       "      <td>4.2000</td>\n",
       "    </tr>\n",
       "  </tbody>\n",
       "</table>\n",
       "<p>3 rows × 23 columns</p>\n",
       "</div>"
      ],
      "text/plain": [
       "   dummy  month  day  year  bedrooms  bathrooms  sqft_living  sqft_lot  \\\n",
       "0    1.0      8    6  2014         4       1.00         1520      9800   \n",
       "1    1.0      3   16  2015         3       2.25         1800     15903   \n",
       "2    1.0     12   12  2014         3       1.50         1780      5000   \n",
       "\n",
       "   floors  waterfront  ...  sqft_above  sqft_basement  yr_built  \\\n",
       "0     1.5           0  ...        1520              0      1971   \n",
       "1     1.0           0  ...        1340            460      1986   \n",
       "2     1.0           0  ...        1030            750      1958   \n",
       "\n",
       "   age_since_renovated  zipcode      lat     long  sqft_living15  sqft_lot15  \\\n",
       "0                 43.0    98034  47.7303 -122.236           1540        7700   \n",
       "1                 29.0    98038  47.3813 -122.043           2000       15233   \n",
       "2                 56.0    98118  47.5168 -122.256           1780        7500   \n",
       "\n",
       "    price  \n",
       "0  3.8900  \n",
       "1  3.3562  \n",
       "2  4.2000  \n",
       "\n",
       "[3 rows x 23 columns]"
      ]
     },
     "execution_count": 34,
     "metadata": {},
     "output_type": "execute_result"
    }
   ],
   "source": [
    "dev.head(3)"
   ]
  },
  {
   "cell_type": "code",
   "execution_count": 37,
   "id": "49018540",
   "metadata": {},
   "outputs": [
    {
     "name": "stdout",
     "output_type": "stream",
     "text": [
      "itr=4000, lr=0.1, loss=3.764688470320703\n",
      "learning rate=0.1, MSE=4.521144879576144 \n",
      "\n",
      "dummy                  5.335026\n",
      "month                  0.055064\n",
      "day                   -0.050384\n",
      "year                   0.172789\n",
      "bedrooms              -0.283117\n",
      "bathrooms              0.333352\n",
      "sqft_living            0.803578\n",
      "sqft_lot               0.051960\n",
      "floors                 0.004418\n",
      "waterfront             3.947974\n",
      "view                   0.462525\n",
      "condition              0.195855\n",
      "grade                  1.157613\n",
      "sqft_above             0.797647\n",
      "sqft_basement          0.160526\n",
      "yr_built              -0.874220\n",
      "age_since_renovated   -0.090588\n",
      "zipcode               -0.272844\n",
      "lat                    0.841366\n",
      "long                  -0.286782\n",
      "sqft_lot15            -0.095519\n",
      "dtype: float64\n"
     ]
    }
   ],
   "source": [
    "# fetch the normalized data with the 'sqft_living15' column dropped\n",
    "train_data3, column_mean3, column_std3 = preprocess_data(data, normalize=True, drop_sqrt_living15=True)\n",
    "\n",
    "#train the model with the new dataset and compute the validation mse and the learned weights\n",
    "weight, mse = gradient_train(train_data3.drop('price', axis=1), train_data3['price'], 0.1, 1e-8, itr=4000)\n",
    "print(\"learning rate={}, MSE={}\".format(0.1, compute_mse(dev_1.drop(['price', 'sqft_living15'], axis=1), dev_1['price'], weight)), \"\\n\")\n",
    "print(weight)"
   ]
  },
  {
   "cell_type": "code",
   "execution_count": null,
   "id": "d34ab792",
   "metadata": {},
   "outputs": [],
   "source": []
  }
 ],
 "metadata": {
  "kernelspec": {
   "display_name": "Python 3 (ipykernel)",
   "language": "python",
   "name": "python3"
  },
  "language_info": {
   "codemirror_mode": {
    "name": "ipython",
    "version": 3
   },
   "file_extension": ".py",
   "mimetype": "text/x-python",
   "name": "python",
   "nbconvert_exporter": "python",
   "pygments_lexer": "ipython3",
   "version": "3.9.12"
  }
 },
 "nbformat": 4,
 "nbformat_minor": 5
}
